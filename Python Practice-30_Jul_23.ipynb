{
 "cells": [
  {
   "cell_type": "code",
   "execution_count": 3,
   "id": "393e958e",
   "metadata": {},
   "outputs": [
    {
     "name": "stdout",
     "output_type": "stream",
     "text": [
      "Twinkle, twinkle, little star, \n",
      "\tHow I wonder what you are! \n",
      "\t\tUp above the world so high, \n",
      "\t\tLike a diamond in the sky. \n",
      "Twinkle, twinkle, little star, \n",
      "\tHow I wonder what you are\n"
     ]
    }
   ],
   "source": [
    "'''\n",
    "Twinkle, twinkle, little star,\n",
    "\tHow I wonder what you are! \n",
    "\t\tUp above the world so high,   \t\t\n",
    "\t\tLike a diamond in the sky. \n",
    "Twinkle, twinkle, little star, \n",
    "\tHow I wonder what you are\n",
    "'''\n",
    "\n",
    "print(\"Twinkle, twinkle, little star, \\n\\tHow I wonder what you are! \\n\\t\\tUp above the world so high, \\n\\t\\tLike a diamond in the sky. \\nTwinkle, twinkle, little star, \\n\\tHow I wonder what you are\")"
   ]
  },
  {
   "cell_type": "code",
   "execution_count": 4,
   "id": "647d2e82",
   "metadata": {},
   "outputs": [
    {
     "name": "stdout",
     "output_type": "stream",
     "text": [
      "3.9.7 (default, Sep 16 2021, 16:59:28) [MSC v.1916 64 bit (AMD64)]\n"
     ]
    }
   ],
   "source": [
    "import sys\n",
    "print(sys.version)"
   ]
  },
  {
   "cell_type": "code",
   "execution_count": 5,
   "id": "c32c2e31",
   "metadata": {},
   "outputs": [],
   "source": [
    "from datetime import datetime"
   ]
  },
  {
   "cell_type": "code",
   "execution_count": 7,
   "id": "075a8d5f",
   "metadata": {},
   "outputs": [
    {
     "name": "stdout",
     "output_type": "stream",
     "text": [
      "2023-07-30 15:19:28.934967\n"
     ]
    }
   ],
   "source": [
    "print(datetime.now())"
   ]
  },
  {
   "cell_type": "code",
   "execution_count": 11,
   "id": "d7a521aa",
   "metadata": {},
   "outputs": [],
   "source": [
    "import math"
   ]
  },
  {
   "cell_type": "code",
   "execution_count": 12,
   "id": "346a1469",
   "metadata": {},
   "outputs": [
    {
     "name": "stdout",
     "output_type": "stream",
     "text": [
      "9\n",
      "254.46900494077323\n"
     ]
    }
   ],
   "source": [
    "x = int(input())\n",
    "print(math.pi*x**2)"
   ]
  },
  {
   "cell_type": "code",
   "execution_count": 13,
   "id": "d4d94a98",
   "metadata": {},
   "outputs": [
    {
     "name": "stdout",
     "output_type": "stream",
     "text": [
      "Sean\n",
      "Oslin\n",
      "Oslin   Sean\n"
     ]
    }
   ],
   "source": [
    "first = input()\n",
    "last = input()\n",
    "print(last, ' ', first)"
   ]
  },
  {
   "cell_type": "code",
   "execution_count": 22,
   "id": "711d4d74",
   "metadata": {},
   "outputs": [
    {
     "name": "stdout",
     "output_type": "stream",
     "text": [
      "1 2 3 4 5\n",
      "['1', '2', '3', '4', '5']\n",
      "('1', '2', '3', '4', '5')\n"
     ]
    }
   ],
   "source": [
    "user_input = input()\n",
    "\n",
    "a_list =  list(map(str,user_input.split(' ')))\n",
    "print(a_list)\n",
    "\n",
    "a_tuple =  tuple(map(str,user_input.split(' ')))\n",
    "print(a_tuple)"
   ]
  },
  {
   "cell_type": "code",
   "execution_count": 25,
   "id": "7c9dab98",
   "metadata": {},
   "outputs": [
    {
     "name": "stdout",
     "output_type": "stream",
     "text": [
      "basic.ipynb\n",
      "ipynb\n"
     ]
    }
   ],
   "source": [
    "filename = input()\n",
    "exten = filename.split('.')\n",
    "print(str(exten[-1]))"
   ]
  },
  {
   "cell_type": "code",
   "execution_count": 27,
   "id": "6efe9735",
   "metadata": {},
   "outputs": [
    {
     "name": "stdout",
     "output_type": "stream",
     "text": [
      "Red Black\n"
     ]
    }
   ],
   "source": [
    "color_list = [\"Red\",\"Green\",\"White\" ,\"Black\"]\n",
    "print(color_list[0], color_list[-1])"
   ]
  },
  {
   "cell_type": "code",
   "execution_count": 28,
   "id": "47938374",
   "metadata": {},
   "outputs": [
    {
     "name": "stdout",
     "output_type": "stream",
     "text": [
      "11 / 12 / 2014\n"
     ]
    }
   ],
   "source": [
    "exam_st_date = (11, 12, 2014)\n",
    "print(exam_st_date[0],'/',exam_st_date[1],'/',exam_st_date[2])"
   ]
  },
  {
   "cell_type": "code",
   "execution_count": 34,
   "id": "f817eef2",
   "metadata": {},
   "outputs": [
    {
     "name": "stdout",
     "output_type": "stream",
     "text": [
      "11 / 12 / 2014\n"
     ]
    }
   ],
   "source": [
    "print(\"%i / %i / %i\"%exam_st_date)"
   ]
  },
  {
   "cell_type": "code",
   "execution_count": 41,
   "id": "637e80bf",
   "metadata": {},
   "outputs": [
    {
     "name": "stdout",
     "output_type": "stream",
     "text": [
      "8\n",
      "984\n"
     ]
    }
   ],
   "source": [
    "x = input()\n",
    "n1 = int('%s' %x)\n",
    "n2 = int(\"%s%s\" %(x,x))\n",
    "n3 = int(\"%s%s%s\" %(x,x,x))\n",
    "print(n1+n2+n3)"
   ]
  },
  {
   "cell_type": "code",
   "execution_count": 37,
   "id": "9ec27c73",
   "metadata": {},
   "outputs": [
    {
     "name": "stdout",
     "output_type": "stream",
     "text": [
      "Return the absolute value of the argument.\n"
     ]
    }
   ],
   "source": [
    "#11\n",
    "print(abs.__doc__)"
   ]
  },
  {
   "cell_type": "code",
   "execution_count": 42,
   "id": "fe4c4e90",
   "metadata": {},
   "outputs": [
    {
     "name": "stdout",
     "output_type": "stream",
     "text": [
      "      May 2025\n",
      "Mo Tu We Th Fr Sa Su\n",
      "          1  2  3  4\n",
      " 5  6  7  8  9 10 11\n",
      "12 13 14 15 16 17 18\n",
      "19 20 21 22 23 24 25\n",
      "26 27 28 29 30 31\n",
      "\n"
     ]
    }
   ],
   "source": [
    "import calendar\n",
    "\n",
    "yy = 2025\n",
    "mm = 5\n",
    "\n",
    "print(calendar.month(yy, mm))"
   ]
  },
  {
   "cell_type": "code",
   "execution_count": 43,
   "id": "5042c4b1",
   "metadata": {},
   "outputs": [
    {
     "name": "stdout",
     "output_type": "stream",
     "text": [
      "hello,\n",
      "how...are\n",
      "    you------->\n",
      "today\n"
     ]
    }
   ],
   "source": [
    "print('''hello,\n",
    "how...are\n",
    "    you------->\n",
    "today''')"
   ]
  },
  {
   "cell_type": "code",
   "execution_count": 51,
   "id": "f990527d",
   "metadata": {},
   "outputs": [
    {
     "name": "stdout",
     "output_type": "stream",
     "text": [
      "20903\n"
     ]
    }
   ],
   "source": [
    "from datetime import date\n",
    "d1 = date(1966, 5, 10) \n",
    "d2 = date(2023,8, 2)\n",
    "date_delta = d2-d1\n",
    "print(date_delta.days)"
   ]
  },
  {
   "cell_type": "code",
   "execution_count": 53,
   "id": "dd4b4b2a",
   "metadata": {},
   "outputs": [
    {
     "name": "stdout",
     "output_type": "stream",
     "text": [
      "11\n",
      "5575.279762570686\n"
     ]
    }
   ],
   "source": [
    "x = int(input())\n",
    "vol = 4/3*math.pi*x**3\n",
    "print(vol)"
   ]
  },
  {
   "cell_type": "code",
   "execution_count": 59,
   "id": "7781ce2a",
   "metadata": {},
   "outputs": [
    {
     "name": "stdout",
     "output_type": "stream",
     "text": [
      "6\n"
     ]
    }
   ],
   "source": [
    "def difference(n):\n",
    "    if n<= 17:\n",
    "        return 17-n\n",
    "    else: \n",
    "        return (n-17)*2\n",
    "print(difference(20))"
   ]
  },
  {
   "cell_type": "code",
   "execution_count": 65,
   "id": "a1ba44b5",
   "metadata": {},
   "outputs": [
    {
     "data": {
      "text/plain": [
       "True"
      ]
     },
     "execution_count": 65,
     "metadata": {},
     "output_type": "execute_result"
    }
   ],
   "source": [
    "def value(n):\n",
    "    return ((abs(1000 - n) <= 100) or (abs(2000 - n) <= 100))\n",
    "value(1050)"
   ]
  },
  {
   "cell_type": "code",
   "execution_count": 69,
   "id": "04944f03",
   "metadata": {},
   "outputs": [
    {
     "data": {
      "text/plain": [
       "27"
      ]
     },
     "execution_count": 69,
     "metadata": {},
     "output_type": "execute_result"
    }
   ],
   "source": [
    "def sums(x,y,z):\n",
    "    if x == y and y == z:\n",
    "        return (x+y+z)*3\n",
    "    else:\n",
    "        return x+y+z\n",
    "sums(3,3,3)\n"
   ]
  },
  {
   "cell_type": "code",
   "execution_count": 71,
   "id": "70e63943",
   "metadata": {},
   "outputs": [
    {
     "data": {
      "text/plain": [
       "'isSean'"
      ]
     },
     "execution_count": 71,
     "metadata": {},
     "output_type": "execute_result"
    }
   ],
   "source": [
    "def string(x):\n",
    "    if x.startswith('is'):\n",
    "        return x\n",
    "    else:\n",
    "        return 'is'+x\n",
    "string('Sean')"
   ]
  },
  {
   "cell_type": "code",
   "execution_count": 73,
   "id": "24bb37d5",
   "metadata": {},
   "outputs": [
    {
     "data": {
      "text/plain": [
       "'SeanSeanSeanSean'"
      ]
     },
     "execution_count": 73,
     "metadata": {},
     "output_type": "execute_result"
    }
   ],
   "source": [
    "def string(text, n):\n",
    "    result = ''\n",
    "    for i in range(n):\n",
    "        result = result + text\n",
    "    return result\n",
    "string('Sean', 4)\n",
    "    "
   ]
  },
  {
   "cell_type": "code",
   "execution_count": 76,
   "id": "0045719c",
   "metadata": {},
   "outputs": [
    {
     "data": {
      "text/plain": [
       "\"It's even\""
      ]
     },
     "execution_count": 76,
     "metadata": {},
     "output_type": "execute_result"
    }
   ],
   "source": [
    "def even_odd(n):\n",
    "    if n % 2 ==0:\n",
    "        return \"It's even\"\n",
    "    else:\n",
    "        return \"Its odd\"\n",
    "even_odd(10)"
   ]
  },
  {
   "cell_type": "code",
   "execution_count": 82,
   "id": "7aac2569",
   "metadata": {},
   "outputs": [
    {
     "name": "stdout",
     "output_type": "stream",
     "text": [
      "3\n"
     ]
    }
   ],
   "source": [
    "num_string = 't4i84hh04tnct14'\n",
    "x = 0\n",
    "\n",
    "for i in num_string:\n",
    "    if i == 't':\n",
    "        x = x+1\n",
    "print(x)"
   ]
  },
  {
   "cell_type": "code",
   "execution_count": 84,
   "id": "4cec6975",
   "metadata": {},
   "outputs": [
    {
     "name": "stdout",
     "output_type": "stream",
     "text": [
      "7\n"
     ]
    }
   ],
   "source": [
    "lst = [1,2,3,4,2,3,4,4,6,4,9,8,9,4,4,1,2,4]\n",
    "count = 0\n",
    "\n",
    "for i in lst:\n",
    "    if i == 4:\n",
    "        count = count+1\n",
    "print(count)"
   ]
  },
  {
   "cell_type": "code",
   "execution_count": 90,
   "id": "7bde4a4a",
   "metadata": {},
   "outputs": [
    {
     "data": {
      "text/plain": [
       "'abcdefabcdefabcdefabcdefabcdef'"
      ]
     },
     "execution_count": 90,
     "metadata": {},
     "output_type": "execute_result"
    }
   ],
   "source": [
    "def substring_copy(text, n):\n",
    "    flen =10\n",
    "    if flen >len(text):\n",
    "        flen = len(text)\n",
    "    substring = text[:flen]\n",
    "    result = ''\n",
    "    for i in range(n):\n",
    "        result = result + substring\n",
    "    return result\n",
    "substring_copy('abcdef', 5)\n"
   ]
  },
  {
   "cell_type": "code",
   "execution_count": 96,
   "id": "7060b0e6",
   "metadata": {},
   "outputs": [
    {
     "name": "stdout",
     "output_type": "stream",
     "text": [
      "i\n",
      "True\n"
     ]
    }
   ],
   "source": [
    "vowel = ['a', 'e', 'i', 'o', 'u']\n",
    "letter = input()\n",
    "if letter in vowel:\n",
    "    print(True)\n",
    "else:\n",
    "    print(False)\n",
    "\n",
    "\n"
   ]
  },
  {
   "cell_type": "code",
   "execution_count": 98,
   "id": "4279ac7d",
   "metadata": {},
   "outputs": [
    {
     "name": "stdout",
     "output_type": "stream",
     "text": [
      "8\n",
      "True\n"
     ]
    }
   ],
   "source": [
    "num = [1, 5, 8, 3]\n",
    "x = int(input())\n",
    "\n",
    "if x in num:\n",
    "    print(True)\n",
    "else:\n",
    "    print(False)"
   ]
  },
  {
   "cell_type": "code",
   "execution_count": 100,
   "id": "823c8c11",
   "metadata": {},
   "outputs": [
    {
     "data": {
      "image/png": "[encoded data removed]",
      "text/plain": [
       "<Figure size 432x288 with 1 Axes>"
      ]
     },
     "metadata": {
      "needs_background": "light"
     },
     "output_type": "display_data"
    }
   ],
   "source": [
    "from matplotlib import pyplot as plt\n",
    "nums = [1,1,2,3,3,6,6,6,6,7,6,4,4,4,4,7,7,10,10,9,9,8,9,0,6,6,6,]\n",
    "\n",
    "plt.hist(nums, 8);"
   ]
  },
  {
   "cell_type": "code",
   "execution_count": 102,
   "id": "f82fbf4d",
   "metadata": {},
   "outputs": [
    {
     "name": "stdout",
     "output_type": "stream",
     "text": [
      " How are you tonight, my dear?\n"
     ]
    }
   ],
   "source": [
    "lst = ['How', 'are', 'you', 'tonight,', 'my', 'dear?']\n",
    "string = ''\n",
    "\n",
    "for x in lst:\n",
    "    string += ' ' + x\n",
    "print(string)"
   ]
  },
  {
   "cell_type": "code",
   "execution_count": 105,
   "id": "a41ebfaa",
   "metadata": {},
   "outputs": [
    {
     "name": "stdout",
     "output_type": "stream",
     "text": [
      "386\n",
      "462\n",
      "418\n",
      "344\n",
      "236\n",
      "566\n",
      "978\n",
      "328\n",
      "162\n",
      "758\n",
      "918\n",
      "237\n"
     ]
    }
   ],
   "source": [
    "numbers = [    \n",
    "    386, 462, 47, 418, 907, 344, 236, 375, 823, 566, 597, 978, 328, 615, 953, 345, \n",
    "    399, 162, 758, 219, 918, 237, 412, 566, 826, 248, 866, 950, 626, 949, 687, 217, \n",
    "    815, 67, 104, 58, 512, 24, 892, 894, 767, 553, 81, 379, 843, 831, 445, 742, 717, \n",
    "    958,743, 527\n",
    "    ]\n",
    "\n",
    "for x in numbers:\n",
    "    if x == 237:\n",
    "        print(x)\n",
    "        break\n",
    "    elif x % 2 ==0:\n",
    "        print(x)\n",
    "            "
   ]
  },
  {
   "cell_type": "code",
   "execution_count": 106,
   "id": "91675383",
   "metadata": {},
   "outputs": [
    {
     "name": "stdout",
     "output_type": "stream",
     "text": [
      "['White', 'Black']\n"
     ]
    }
   ],
   "source": [
    "color_list_1 = set([\"White\", \"Black\", \"Red\"])\n",
    "color_list_2 = set([\"Red\", \"Green\"])\n",
    "\n",
    "color = list(set(color_list_1)- set(color_list_2))\n",
    "print(color)"
   ]
  },
  {
   "cell_type": "code",
   "execution_count": 107,
   "id": "4de48577",
   "metadata": {},
   "outputs": [
    {
     "name": "stdout",
     "output_type": "stream",
     "text": [
      "5\n",
      "30\n"
     ]
    },
    {
     "data": {
      "text/plain": [
       "75.0"
      ]
     },
     "execution_count": 107,
     "metadata": {},
     "output_type": "execute_result"
    }
   ],
   "source": [
    "height = int(input())\n",
    "width = int(input())\n",
    "area = .5*(height*width)\n",
    "area"
   ]
  },
  {
   "cell_type": "code",
   "execution_count": 109,
   "id": "6c4bfb7d",
   "metadata": {},
   "outputs": [
    {
     "data": {
      "text/plain": [
       "3"
      ]
     },
     "execution_count": 109,
     "metadata": {},
     "output_type": "execute_result"
    }
   ],
   "source": [
    "math.gcd(678,23091)"
   ]
  },
  {
   "cell_type": "code",
   "execution_count": 114,
   "id": "73f20d23",
   "metadata": {},
   "outputs": [
    {
     "name": "stdout",
     "output_type": "stream",
     "text": [
      "5\n",
      "Weird\n"
     ]
    }
   ],
   "source": [
    "x = int(input())\n",
    "if x % 2 != 0 or x in range(6,21):\n",
    "    print('Weird')\n",
    "else:\n",
    "    print('Not Weird')"
   ]
  },
  {
   "cell_type": "code",
   "execution_count": 119,
   "id": "6f31b51f",
   "metadata": {},
   "outputs": [
    {
     "name": "stdout",
     "output_type": "stream",
     "text": [
      "8\n",
      "8 x 1 = 8\n",
      "8 x 2 = 16\n",
      "8 x 3 = 24\n",
      "8 x 4 = 32\n",
      "8 x 5 = 40\n",
      "8 x 6 = 48\n",
      "8 x 7 = 56\n",
      "8 x 8 = 64\n",
      "8 x 9 = 72\n",
      "8 x 10 = 80\n"
     ]
    }
   ],
   "source": [
    "n = int(input().strip())\n",
    "for i in range(1,11):\n",
    "    print(f'{n} x {i} =', n * i) "
   ]
  },
  {
   "cell_type": "code",
   "execution_count": 121,
   "id": "5265bdf4",
   "metadata": {},
   "outputs": [
    {
     "data": {
      "text/plain": [
       "48"
      ]
     },
     "execution_count": 121,
     "metadata": {},
     "output_type": "execute_result"
    }
   ],
   "source": [
    "#least common multiple\n",
    "\n",
    "def find_lcm(x,y):\n",
    "    if x > y:\n",
    "        greater = x\n",
    "    else:\n",
    "        greater = y\n",
    "    while(True):\n",
    "        if ((greater % x == 0) and (greater % y == 0)):\n",
    "            lcm = greater\n",
    "            break\n",
    "        greater +=1\n",
    "    return lcm\n",
    "find_lcm(12,16)"
   ]
  },
  {
   "cell_type": "code",
   "execution_count": 124,
   "id": "6756cb19",
   "metadata": {},
   "outputs": [
    {
     "name": "stdout",
     "output_type": "stream",
     "text": [
      "7\n",
      "7\n",
      "3\n",
      "0\n"
     ]
    }
   ],
   "source": [
    "x = int(input())\n",
    "y = int(input())\n",
    "z = int(input())\n",
    "\n",
    "if x == y or x == z or y == z:\n",
    "    print(0)\n",
    "else:\n",
    "    print(x+y+z)\n",
    "\n"
   ]
  },
  {
   "cell_type": "code",
   "execution_count": 129,
   "id": "ca92a517",
   "metadata": {},
   "outputs": [
    {
     "name": "stdout",
     "output_type": "stream",
     "text": [
      "9\n",
      "0\n"
     ]
    }
   ],
   "source": [
    "def sum_int(x,y,z):\n",
    "    if x==y or x==z or z == y:\n",
    "        sum = 0\n",
    "    else:\n",
    "        sum = x+y+z\n",
    "    return sum\n",
    "print(sum_int(2,3,4))\n",
    "print(sum_int(6,9,6))"
   ]
  },
  {
   "cell_type": "code",
   "execution_count": 130,
   "id": "2439f049",
   "metadata": {},
   "outputs": [
    {
     "name": "stdout",
     "output_type": "stream",
     "text": [
      "12\n",
      "20\n"
     ]
    }
   ],
   "source": [
    "def sum_int2(x,y):\n",
    "    if x + y in range(15,21):\n",
    "        sum = 20\n",
    "    else:\n",
    "        sum = x + y\n",
    "    return sum\n",
    "print(sum_int2(4,8))\n",
    "print(sum_int2(8,9))"
   ]
  },
  {
   "cell_type": "code",
   "execution_count": 131,
   "id": "2e592f2d",
   "metadata": {},
   "outputs": [
    {
     "name": "stdout",
     "output_type": "stream",
     "text": [
      "True\n",
      "True\n",
      "True\n",
      "False\n"
     ]
    }
   ],
   "source": [
    "def diff(x,y):\n",
    "    if x == y or x-y == 5 or y-x ==5:\n",
    "        return True\n",
    "    else:\n",
    "        return False\n",
    "print(diff(5,5))\n",
    "print(diff(5,10))\n",
    "print(diff(20,15))\n",
    "print(diff(45,3))"
   ]
  },
  {
   "cell_type": "code",
   "execution_count": 138,
   "id": "79a81af0",
   "metadata": {},
   "outputs": [
    {
     "name": "stdout",
     "output_type": "stream",
     "text": [
      "9\n",
      "At least one value is not an integer\n",
      "At least one value is not an integer\n"
     ]
    }
   ],
   "source": [
    "def add_int(x,y):\n",
    "    if not (isinstance(x, int) and isinstance(y, int)):\n",
    "        return \"At least one value is not an integer\"\n",
    "    return x+y\n",
    "print(add_int(4,5))\n",
    "print(add_int('4', 5))\n",
    "print(add_int('4', '5'))"
   ]
  },
  {
   "cell_type": "code",
   "execution_count": 139,
   "id": "c5bcd1ab",
   "metadata": {},
   "outputs": [
    {
     "name": "stdout",
     "output_type": "stream",
     "text": [
      "9\n",
      "At least one value is not an integer\n",
      "At least one value is not an integer\n"
     ]
    }
   ],
   "source": [
    "def add_int(x,y):\n",
    "    if (isinstance(x, int) and isinstance(y, int)):\n",
    "        return x + y\n",
    "    return \"At least one value is not an integer\"\n",
    "print(add_int(4,5))\n",
    "print(add_int('4', 5))\n",
    "print(add_int('4', '5'))"
   ]
  }
 ],
 "metadata": {
  "kernelspec": {
   "display_name": "Python 3 (ipykernel)",
   "language": "python",
   "name": "python3"
  },
  "language_info": {
   "codemirror_mode": {
    "name": "ipython",
    "version": 3
   },
   "file_extension": ".py",
   "mimetype": "text/x-python",
   "name": "python",
   "nbconvert_exporter": "python",
   "pygments_lexer": "ipython3",
   "version": "3.9.7"
  }
 },
 "nbformat": 4,
 "nbformat_minor": 5
}
