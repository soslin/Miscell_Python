{
 "cells": [
  {
   "cell_type": "code",
   "execution_count": 3,
   "id": "c2400517",
   "metadata": {},
   "outputs": [
    {
     "name": "stdout",
     "output_type": "stream",
     "text": [
      "Twinkle, twinkle, little star, \n",
      "\tHow I wonder what you are! \n",
      "\t\tUp above the world so high, \n",
      "\t\tLike a diamond in the sky. \n",
      "Twinkle, twinkle, little star, \n",
      "\tHow I wonder what you are\n"
     ]
    }
   ],
   "source": [
    "'''\n",
    "Twinkle, twinkle, little star,\n",
    "\tHow I wonder what you are! \n",
    "\t\tUp above the world so high,   \t\t\n",
    "\t\tLike a diamond in the sky. \n",
    "Twinkle, twinkle, little star, \n",
    "\tHow I wonder what you are\n",
    "'''\n",
    "\n",
    "print(\"Twinkle, twinkle, little star, \\n\\tHow I wonder what you are! \\n\\t\\tUp above the world so high, \\n\\t\\tLike a diamond in the sky. \\nTwinkle, twinkle, little star, \\n\\tHow I wonder what you are\")"
   ]
  },
  {
   "cell_type": "code",
   "execution_count": 4,
   "id": "fb4d7b18",
   "metadata": {},
   "outputs": [
    {
     "name": "stdout",
     "output_type": "stream",
     "text": [
      "3.9.7 (default, Sep 16 2021, 16:59:28) [MSC v.1916 64 bit (AMD64)]\n"
     ]
    }
   ],
   "source": [
    "import sys\n",
    "print(sys.version)"
   ]
  },
  {
   "cell_type": "code",
   "execution_count": 5,
   "id": "346254f2",
   "metadata": {},
   "outputs": [],
   "source": [
    "from datetime import datetime"
   ]
  },
  {
   "cell_type": "code",
   "execution_count": 7,
   "id": "f8c43b49",
   "metadata": {},
   "outputs": [
    {
     "name": "stdout",
     "output_type": "stream",
     "text": [
      "2023-07-30 15:19:28.934967\n"
     ]
    }
   ],
   "source": [
    "print(datetime.now())"
   ]
  },
  {
   "cell_type": "code",
   "execution_count": 11,
   "id": "4e391089",
   "metadata": {},
   "outputs": [],
   "source": [
    "import math"
   ]
  },
  {
   "cell_type": "code",
   "execution_count": 12,
   "id": "28f00254",
   "metadata": {},
   "outputs": [
    {
     "name": "stdout",
     "output_type": "stream",
     "text": [
      "9\n",
      "254.46900494077323\n"
     ]
    }
   ],
   "source": [
    "x = int(input())\n",
    "print(math.pi*x**2)"
   ]
  },
  {
   "cell_type": "code",
   "execution_count": 13,
   "id": "3f65bd8d",
   "metadata": {},
   "outputs": [
    {
     "name": "stdout",
     "output_type": "stream",
     "text": [
      "Sean\n",
      "Oslin\n",
      "Oslin   Sean\n"
     ]
    }
   ],
   "source": [
    "first = input()\n",
    "last = input()\n",
    "print(last, ' ', first)"
   ]
  },
  {
   "cell_type": "code",
   "execution_count": 22,
   "id": "79469307",
   "metadata": {},
   "outputs": [
    {
     "name": "stdout",
     "output_type": "stream",
     "text": [
      "1 2 3 4 5\n",
      "['1', '2', '3', '4', '5']\n",
      "('1', '2', '3', '4', '5')\n"
     ]
    }
   ],
   "source": [
    "user_input = input()\n",
    "\n",
    "a_list =  list(map(str,user_input.split(' ')))\n",
    "print(a_list)\n",
    "\n",
    "a_tuple =  tuple(map(str,user_input.split(' ')))\n",
    "print(a_tuple)"
   ]
  },
  {
   "cell_type": "code",
   "execution_count": 25,
   "id": "478607b4",
   "metadata": {},
   "outputs": [
    {
     "name": "stdout",
     "output_type": "stream",
     "text": [
      "basic.ipynb\n",
      "ipynb\n"
     ]
    }
   ],
   "source": [
    "filename = input()\n",
    "exten = filename.split('.')\n",
    "print(str(exten[-1]))"
   ]
  },
  {
   "cell_type": "code",
   "execution_count": 27,
   "id": "9e826da5",
   "metadata": {},
   "outputs": [
    {
     "name": "stdout",
     "output_type": "stream",
     "text": [
      "Red Black\n"
     ]
    }
   ],
   "source": [
    "color_list = [\"Red\",\"Green\",\"White\" ,\"Black\"]\n",
    "print(color_list[0], color_list[-1])"
   ]
  },
  {
   "cell_type": "code",
   "execution_count": 28,
   "id": "a0a007d8",
   "metadata": {},
   "outputs": [
    {
     "name": "stdout",
     "output_type": "stream",
     "text": [
      "11 / 12 / 2014\n"
     ]
    }
   ],
   "source": [
    "exam_st_date = (11, 12, 2014)\n",
    "print(exam_st_date[0],'/',exam_st_date[1],'/',exam_st_date[2])"
   ]
  },
  {
   "cell_type": "code",
   "execution_count": 34,
   "id": "d3b467cb",
   "metadata": {},
   "outputs": [
    {
     "name": "stdout",
     "output_type": "stream",
     "text": [
      "11 / 12 / 2014\n"
     ]
    }
   ],
   "source": [
    "print(\"%i / %i / %i\"%exam_st_date)"
   ]
  },
  {
   "cell_type": "code",
   "execution_count": 41,
   "id": "1e755bc5",
   "metadata": {},
   "outputs": [
    {
     "name": "stdout",
     "output_type": "stream",
     "text": [
      "8\n",
      "984\n"
     ]
    }
   ],
   "source": [
    "x = input()\n",
    "n1 = int('%s' %x)\n",
    "n2 = int(\"%s%s\" %(x,x))\n",
    "n3 = int(\"%s%s%s\" %(x,x,x))\n",
    "print(n1+n2+n3)"
   ]
  },
  {
   "cell_type": "code",
   "execution_count": 37,
   "id": "5af91831",
   "metadata": {},
   "outputs": [
    {
     "name": "stdout",
     "output_type": "stream",
     "text": [
      "Return the absolute value of the argument.\n"
     ]
    }
   ],
   "source": [
    "#11\n",
    "print(abs.__doc__)"
   ]
  },
  {
   "cell_type": "code",
   "execution_count": 42,
   "id": "ba404c15",
   "metadata": {},
   "outputs": [
    {
     "name": "stdout",
     "output_type": "stream",
     "text": [
      "      May 2025\n",
      "Mo Tu We Th Fr Sa Su\n",
      "          1  2  3  4\n",
      " 5  6  7  8  9 10 11\n",
      "12 13 14 15 16 17 18\n",
      "19 20 21 22 23 24 25\n",
      "26 27 28 29 30 31\n",
      "\n"
     ]
    }
   ],
   "source": [
    "import calendar\n",
    "\n",
    "yy = 2025\n",
    "mm = 5\n",
    "\n",
    "print(calendar.month(yy, mm))"
   ]
  },
  {
   "cell_type": "code",
   "execution_count": 43,
   "id": "8f0e0cac",
   "metadata": {},
   "outputs": [
    {
     "name": "stdout",
     "output_type": "stream",
     "text": [
      "hello,\n",
      "how...are\n",
      "    you------->\n",
      "today\n"
     ]
    }
   ],
   "source": [
    "print('''hello,\n",
    "how...are\n",
    "    you------->\n",
    "today''')"
   ]
  },
  {
   "cell_type": "code",
   "execution_count": 51,
   "id": "fee44d7f",
   "metadata": {},
   "outputs": [
    {
     "name": "stdout",
     "output_type": "stream",
     "text": [
      "20903\n"
     ]
    }
   ],
   "source": [
    "from datetime import date\n",
    "d1 = date(1966, 5, 10) \n",
    "d2 = date(2023,8, 2)\n",
    "date_delta = d2-d1\n",
    "print(date_delta.days)"
   ]
  },
  {
   "cell_type": "code",
   "execution_count": 53,
   "id": "d3abd095",
   "metadata": {},
   "outputs": [
    {
     "name": "stdout",
     "output_type": "stream",
     "text": [
      "11\n",
      "5575.279762570686\n"
     ]
    }
   ],
   "source": [
    "x = int(input())\n",
    "vol = 4/3*math.pi*x**3\n",
    "print(vol)"
   ]
  },
  {
   "cell_type": "code",
   "execution_count": 59,
   "id": "4f8e25a8",
   "metadata": {},
   "outputs": [
    {
     "name": "stdout",
     "output_type": "stream",
     "text": [
      "6\n"
     ]
    }
   ],
   "source": [
    "def difference(n):\n",
    "    if n<= 17:\n",
    "        return 17-n\n",
    "    else: \n",
    "        return (n-17)*2\n",
    "print(difference(20))"
   ]
  },
  {
   "cell_type": "code",
   "execution_count": 65,
   "id": "8292b42d",
   "metadata": {},
   "outputs": [
    {
     "data": {
      "text/plain": [
       "True"
      ]
     },
     "execution_count": 65,
     "metadata": {},
     "output_type": "execute_result"
    }
   ],
   "source": [
    "def value(n):\n",
    "    return ((abs(1000 - n) <= 100) or (abs(2000 - n) <= 100))\n",
    "value(1050)"
   ]
  },
  {
   "cell_type": "code",
   "execution_count": 69,
   "id": "2392b9b1",
   "metadata": {},
   "outputs": [
    {
     "data": {
      "text/plain": [
       "27"
      ]
     },
     "execution_count": 69,
     "metadata": {},
     "output_type": "execute_result"
    }
   ],
   "source": [
    "def sums(x,y,z):\n",
    "    if x == y and y == z:\n",
    "        return (x+y+z)*3\n",
    "    else:\n",
    "        return x+y+z\n",
    "sums(3,3,3)\n"
   ]
  },
  {
   "cell_type": "code",
   "execution_count": 71,
   "id": "14bdf5ce",
   "metadata": {},
   "outputs": [
    {
     "data": {
      "text/plain": [
       "'isSean'"
      ]
     },
     "execution_count": 71,
     "metadata": {},
     "output_type": "execute_result"
    }
   ],
   "source": [
    "def string(x):\n",
    "    if x.startswith('is'):\n",
    "        return x\n",
    "    else:\n",
    "        return 'is'+x\n",
    "string('Sean')"
   ]
  },
  {
   "cell_type": "code",
   "execution_count": 73,
   "id": "5adfaf9b",
   "metadata": {},
   "outputs": [
    {
     "data": {
      "text/plain": [
       "'SeanSeanSeanSean'"
      ]
     },
     "execution_count": 73,
     "metadata": {},
     "output_type": "execute_result"
    }
   ],
   "source": [
    "def string(text, n):\n",
    "    result = ''\n",
    "    for i in range(n):\n",
    "        result = result + text\n",
    "    return result\n",
    "string('Sean', 4)\n",
    "    "
   ]
  },
  {
   "cell_type": "code",
   "execution_count": 76,
   "id": "79af7dcd",
   "metadata": {},
   "outputs": [
    {
     "data": {
      "text/plain": [
       "\"It's even\""
      ]
     },
     "execution_count": 76,
     "metadata": {},
     "output_type": "execute_result"
    }
   ],
   "source": [
    "def even_odd(n):\n",
    "    if n % 2 ==0:\n",
    "        return \"It's even\"\n",
    "    else:\n",
    "        return \"Its odd\"\n",
    "even_odd(10)"
   ]
  },
  {
   "cell_type": "code",
   "execution_count": 82,
   "id": "bbc565a6",
   "metadata": {},
   "outputs": [
    {
     "name": "stdout",
     "output_type": "stream",
     "text": [
      "3\n"
     ]
    }
   ],
   "source": [
    "num_string = 't4i84hh04tnct14'\n",
    "x = 0\n",
    "\n",
    "for i in num_string:\n",
    "    if i == 't':\n",
    "        x = x+1\n",
    "print(x)"
   ]
  },
  {
   "cell_type": "code",
   "execution_count": 84,
   "id": "809b46ca",
   "metadata": {},
   "outputs": [
    {
     "name": "stdout",
     "output_type": "stream",
     "text": [
      "7\n"
     ]
    }
   ],
   "source": [
    "lst = [1,2,3,4,2,3,4,4,6,4,9,8,9,4,4,1,2,4]\n",
    "count = 0\n",
    "\n",
    "for i in lst:\n",
    "    if i == 4:\n",
    "        count = count+1\n",
    "print(count)"
   ]
  },
  {
   "cell_type": "code",
   "execution_count": 90,
   "id": "e6bc6377",
   "metadata": {},
   "outputs": [
    {
     "data": {
      "text/plain": [
       "'abcdefabcdefabcdefabcdefabcdef'"
      ]
     },
     "execution_count": 90,
     "metadata": {},
     "output_type": "execute_result"
    }
   ],
   "source": [
    "def substring_copy(text, n):\n",
    "    flen =10\n",
    "    if flen >len(text):\n",
    "        flen = len(text)\n",
    "    substring = text[:flen]\n",
    "    result = ''\n",
    "    for i in range(n):\n",
    "        result = result + substring\n",
    "    return result\n",
    "substring_copy('abcdef', 5)\n"
   ]
  },
  {
   "cell_type": "code",
   "execution_count": 96,
   "id": "02f336da",
   "metadata": {},
   "outputs": [
    {
     "name": "stdout",
     "output_type": "stream",
     "text": [
      "i\n",
      "True\n"
     ]
    }
   ],
   "source": [
    "vowel = ['a', 'e', 'i', 'o', 'u']\n",
    "letter = input()\n",
    "if letter in vowel:\n",
    "    print(True)\n",
    "else:\n",
    "    print(False)\n",
    "\n",
    "\n"
   ]
  },
  {
   "cell_type": "code",
   "execution_count": 98,
   "id": "c2eebb33",
   "metadata": {},
   "outputs": [
    {
     "name": "stdout",
     "output_type": "stream",
     "text": [
      "8\n",
      "True\n"
     ]
    }
   ],
   "source": [
    "num = [1, 5, 8, 3]\n",
    "x = int(input())\n",
    "\n",
    "if x in num:\n",
    "    print(True)\n",
    "else:\n",
    "    print(False)"
   ]
  },
  {
   "cell_type": "code",
   "execution_count": 100,
   "id": "252c8545",
   "metadata": {},
   "outputs": [
    {
     "data": {
      "image/png": "[encoded data removed]",
      "text/plain": [
       "<Figure size 432x288 with 1 Axes>"
      ]
     },
     "metadata": {
      "needs_background": "light"
     },
     "output_type": "display_data"
    }
   ],
   "source": [
    "from matplotlib import pyplot as plt\n",
    "nums = [1,1,2,3,3,6,6,6,6,7,6,4,4,4,4,7,7,10,10,9,9,8,9,0,6,6,6,]\n",
    "\n",
    "plt.hist(nums, 8);"
   ]
  },
  {
   "cell_type": "code",
   "execution_count": 102,
   "id": "bda948ef",
   "metadata": {},
   "outputs": [
    {
     "name": "stdout",
     "output_type": "stream",
     "text": [
      " How are you tonight, my dear?\n"
     ]
    }
   ],
   "source": [
    "lst = ['How', 'are', 'you', 'tonight,', 'my', 'dear?']\n",
    "string = ''\n",
    "\n",
    "for x in lst:\n",
    "    string += ' ' + x\n",
    "print(string)"
   ]
  },
  {
   "cell_type": "code",
   "execution_count": 105,
   "id": "49e8ac0f",
   "metadata": {},
   "outputs": [
    {
     "name": "stdout",
     "output_type": "stream",
     "text": [
      "386\n",
      "462\n",
      "418\n",
      "344\n",
      "236\n",
      "566\n",
      "978\n",
      "328\n",
      "162\n",
      "758\n",
      "918\n",
      "237\n"
     ]
    }
   ],
   "source": [
    "numbers = [    \n",
    "    386, 462, 47, 418, 907, 344, 236, 375, 823, 566, 597, 978, 328, 615, 953, 345, \n",
    "    399, 162, 758, 219, 918, 237, 412, 566, 826, 248, 866, 950, 626, 949, 687, 217, \n",
    "    815, 67, 104, 58, 512, 24, 892, 894, 767, 553, 81, 379, 843, 831, 445, 742, 717, \n",
    "    958,743, 527\n",
    "    ]\n",
    "\n",
    "for x in numbers:\n",
    "    if x == 237:\n",
    "        print(x)\n",
    "        break\n",
    "    elif x % 2 ==0:\n",
    "        print(x)\n",
    "            "
   ]
  },
  {
   "cell_type": "code",
   "execution_count": 106,
   "id": "2655e6f3",
   "metadata": {},
   "outputs": [
    {
     "name": "stdout",
     "output_type": "stream",
     "text": [
      "['White', 'Black']\n"
     ]
    }
   ],
   "source": [
    "color_list_1 = set([\"White\", \"Black\", \"Red\"])\n",
    "color_list_2 = set([\"Red\", \"Green\"])\n",
    "\n",
    "color = list(set(color_list_1)- set(color_list_2))\n",
    "print(color)"
   ]
  },
  {
   "cell_type": "code",
   "execution_count": 107,
   "id": "ecbd2a88",
   "metadata": {},
   "outputs": [
    {
     "name": "stdout",
     "output_type": "stream",
     "text": [
      "5\n",
      "30\n"
     ]
    },
    {
     "data": {
      "text/plain": [
       "75.0"
      ]
     },
     "execution_count": 107,
     "metadata": {},
     "output_type": "execute_result"
    }
   ],
   "source": [
    "height = int(input())\n",
    "width = int(input())\n",
    "area = .5*(height*width)\n",
    "area"
   ]
  },
  {
   "cell_type": "code",
   "execution_count": 109,
   "id": "20d73861",
   "metadata": {},
   "outputs": [
    {
     "data": {
      "text/plain": [
       "3"
      ]
     },
     "execution_count": 109,
     "metadata": {},
     "output_type": "execute_result"
    }
   ],
   "source": [
    "math.gcd(678,23091)"
   ]
  },
  {
   "cell_type": "code",
   "execution_count": 114,
   "id": "3a9676c7",
   "metadata": {},
   "outputs": [
    {
     "name": "stdout",
     "output_type": "stream",
     "text": [
      "5\n",
      "Weird\n"
     ]
    }
   ],
   "source": [
    "x = int(input())\n",
    "if x % 2 != 0 or x in range(6,21):\n",
    "    print('Weird')\n",
    "else:\n",
    "    print('Not Weird')"
   ]
  },
  {
   "cell_type": "code",
   "execution_count": 119,
   "id": "32fab182",
   "metadata": {},
   "outputs": [
    {
     "name": "stdout",
     "output_type": "stream",
     "text": [
      "8\n",
      "8 x 1 = 8\n",
      "8 x 2 = 16\n",
      "8 x 3 = 24\n",
      "8 x 4 = 32\n",
      "8 x 5 = 40\n",
      "8 x 6 = 48\n",
      "8 x 7 = 56\n",
      "8 x 8 = 64\n",
      "8 x 9 = 72\n",
      "8 x 10 = 80\n"
     ]
    }
   ],
   "source": [
    "n = int(input().strip())\n",
    "for i in range(1,11):\n",
    "    print(f'{n} x {i} =', n * i) "
   ]
  },
  {
   "cell_type": "code",
   "execution_count": 121,
   "id": "ca66aaa5",
   "metadata": {},
   "outputs": [
    {
     "data": {
      "text/plain": [
       "48"
      ]
     },
     "execution_count": 121,
     "metadata": {},
     "output_type": "execute_result"
    }
   ],
   "source": [
    "#least common multiple\n",
    "\n",
    "def find_lcm(x,y):\n",
    "    if x > y:\n",
    "        greater = x\n",
    "    else:\n",
    "        greater = y\n",
    "    while(True):\n",
    "        if ((greater % x == 0) and (greater % y == 0)):\n",
    "            lcm = greater\n",
    "            break\n",
    "        greater +=1\n",
    "    return lcm\n",
    "find_lcm(12,16)"
   ]
  },
  {
   "cell_type": "code",
   "execution_count": 124,
   "id": "26ae31b9",
   "metadata": {},
   "outputs": [
    {
     "name": "stdout",
     "output_type": "stream",
     "text": [
      "7\n",
      "7\n",
      "3\n",
      "0\n"
     ]
    }
   ],
   "source": [
    "x = int(input())\n",
    "y = int(input())\n",
    "z = int(input())\n",
    "\n",
    "if x == y or x == z or y == z:\n",
    "    print(0)\n",
    "else:\n",
    "    print(x+y+z)\n",
    "\n"
   ]
  },
  {
   "cell_type": "code",
   "execution_count": 129,
   "id": "df680140",
   "metadata": {},
   "outputs": [
    {
     "name": "stdout",
     "output_type": "stream",
     "text": [
      "9\n",
      "0\n"
     ]
    }
   ],
   "source": [
    "def sum_int(x,y,z):\n",
    "    if x==y or x==z or z == y:\n",
    "        sum = 0\n",
    "    else:\n",
    "        sum = x+y+z\n",
    "    return sum\n",
    "print(sum_int(2,3,4))\n",
    "print(sum_int(6,9,6))"
   ]
  },
  {
   "cell_type": "code",
   "execution_count": 130,
   "id": "70ca9119",
   "metadata": {},
   "outputs": [
    {
     "name": "stdout",
     "output_type": "stream",
     "text": [
      "12\n",
      "20\n"
     ]
    }
   ],
   "source": [
    "def sum_int2(x,y):\n",
    "    if x + y in range(15,21):\n",
    "        sum = 20\n",
    "    else:\n",
    "        sum = x + y\n",
    "    return sum\n",
    "print(sum_int2(4,8))\n",
    "print(sum_int2(8,9))"
   ]
  },
  {
   "cell_type": "code",
   "execution_count": 131,
   "id": "2db768b7",
   "metadata": {},
   "outputs": [
    {
     "name": "stdout",
     "output_type": "stream",
     "text": [
      "True\n",
      "True\n",
      "True\n",
      "False\n"
     ]
    }
   ],
   "source": [
    "def diff(x,y):\n",
    "    if x == y or x-y == 5 or y-x ==5:\n",
    "        return True\n",
    "    else:\n",
    "        return False\n",
    "print(diff(5,5))\n",
    "print(diff(5,10))\n",
    "print(diff(20,15))\n",
    "print(diff(45,3))"
   ]
  },
  {
   "cell_type": "code",
   "execution_count": 138,
   "id": "7c3cb099",
   "metadata": {},
   "outputs": [
    {
     "name": "stdout",
     "output_type": "stream",
     "text": [
      "9\n",
      "At least one value is not an integer\n",
      "At least one value is not an integer\n"
     ]
    }
   ],
   "source": [
    "def add_int(x,y):\n",
    "    if not (isinstance(x, int) and isinstance(y, int)):\n",
    "        return \"At least one value is not an integer\"\n",
    "    return x+y\n",
    "print(add_int(4,5))\n",
    "print(add_int('4', 5))\n",
    "print(add_int('4', '5'))"
   ]
  },
  {
   "cell_type": "code",
   "execution_count": 139,
   "id": "ae5554b8",
   "metadata": {},
   "outputs": [
    {
     "name": "stdout",
     "output_type": "stream",
     "text": [
      "9\n",
      "At least one value is not an integer\n",
      "At least one value is not an integer\n"
     ]
    }
   ],
   "source": [
    "def add_int(x,y):\n",
    "    if (isinstance(x, int) and isinstance(y, int)):\n",
    "        return x + y\n",
    "    return \"At least one value is not an integer\"\n",
    "print(add_int(4,5))\n",
    "print(add_int('4', 5))\n",
    "print(add_int('4', '5'))"
   ]
  },
  {
   "cell_type": "code",
   "execution_count": 141,
   "id": "5d2c5bdc",
   "metadata": {},
   "outputs": [
    {
     "name": "stdout",
     "output_type": "stream",
     "text": [
      "Sean \n",
      "Oslin \n",
      "126 Kansas St \n",
      "San Antonio, TX\n"
     ]
    }
   ],
   "source": [
    "print(\"Sean \\nOslin \\n126 Kansas St \\nSan Antonio, TX\")"
   ]
  },
  {
   "cell_type": "code",
   "execution_count": 145,
   "id": "884f8bfa",
   "metadata": {},
   "outputs": [
    {
     "data": {
      "text/plain": [
       "12722.792627665729"
      ]
     },
     "execution_count": 145,
     "metadata": {},
     "output_type": "execute_result"
    }
   ],
   "source": [
    "#FV=PV(1+r)^{n}\n",
    "10000*((1+.035)**7)"
   ]
  },
  {
   "cell_type": "code",
   "execution_count": 147,
   "id": "3eaedc2f",
   "metadata": {},
   "outputs": [
    {
     "data": {
      "text/plain": [
       "6.324555320336759"
      ]
     },
     "execution_count": 147,
     "metadata": {},
     "output_type": "execute_result"
    }
   ],
   "source": [
    "p1 = [4,0]\n",
    "p2 = [6, 6]\n",
    "\n",
    "math.sqrt((p1[0]-p2[0])**2 + (p1[1]-p2[1])**2)"
   ]
  },
  {
   "cell_type": "code",
   "execution_count": 148,
   "id": "3fdadb08",
   "metadata": {},
   "outputs": [
    {
     "name": "stdout",
     "output_type": "stream",
     "text": [
      "64\n"
     ]
    }
   ],
   "source": [
    "import struct\n",
    "print(struct.calcsize(\"P\") * 8)"
   ]
  },
  {
   "cell_type": "code",
   "execution_count": 151,
   "id": "c0143a8c",
   "metadata": {},
   "outputs": [
    {
     "name": "stdout",
     "output_type": "stream",
     "text": [
      "nt\n",
      "Windows\n",
      "10\n"
     ]
    }
   ],
   "source": [
    "import platform\n",
    "import os\n",
    "\n",
    "print(os.name)\n",
    "print(platform.system())\n",
    "print(platform.release())"
   ]
  },
  {
   "cell_type": "code",
   "execution_count": 154,
   "id": "1e3676e6",
   "metadata": {},
   "outputs": [
    {
     "name": "stdout",
     "output_type": "stream",
     "text": [
      "seano\n"
     ]
    }
   ],
   "source": [
    "import getpass\n",
    "print(getpass.getuser())"
   ]
  },
  {
   "cell_type": "code",
   "execution_count": 155,
   "id": "d8dc86af",
   "metadata": {},
   "outputs": [
    {
     "name": "stdout",
     "output_type": "stream",
     "text": [
      "7\n"
     ]
    },
    {
     "data": {
      "text/plain": [
       "28.0"
      ]
     },
     "execution_count": 155,
     "metadata": {},
     "output_type": "execute_result"
    }
   ],
   "source": [
    "x = int(input())\n",
    "sum_num = (x * (x +1))/2\n",
    "sum_num"
   ]
  },
  {
   "cell_type": "code",
   "execution_count": 158,
   "id": "9f0c01ab",
   "metadata": {},
   "outputs": [
    {
     "name": "stdout",
     "output_type": "stream",
     "text": [
      "5\n",
      "8\n",
      "172.72\n"
     ]
    }
   ],
   "source": [
    "feet = int(input())\n",
    "inches = int(input())\n",
    "cent = (30.48/12)*(feet*12 + inches)\n",
    "print(cent)"
   ]
  },
  {
   "cell_type": "code",
   "execution_count": 162,
   "id": "45b103c1",
   "metadata": {},
   "outputs": [
    {
     "name": "stdout",
     "output_type": "stream",
     "text": [
      "3.3\n",
      "7.8\n"
     ]
    },
    {
     "data": {
      "text/plain": [
       "8.469356528095862"
      ]
     },
     "execution_count": 162,
     "metadata": {},
     "output_type": "execute_result"
    }
   ],
   "source": [
    "ht = float(input())\n",
    "wd = float(input())\n",
    "hy = math.sqrt(ht**2 + wd**2)\n",
    "hy"
   ]
  },
  {
   "cell_type": "code",
   "execution_count": 165,
   "id": "a313aaa1",
   "metadata": {},
   "outputs": [
    {
     "name": "stdout",
     "output_type": "stream",
     "text": [
      "68\n",
      "180\n"
     ]
    },
    {
     "data": {
      "text/plain": [
       "27.3659169550173"
      ]
     },
     "execution_count": 165,
     "metadata": {},
     "output_type": "execute_result"
    }
   ],
   "source": [
    "# BMI = weight (lb) / [height (in)]2 x 703\n",
    "\n",
    "ht = float(input())\n",
    "wt = float(input())\n",
    "\n",
    "bmi = (wt/(ht**2))*703\n",
    "bmi"
   ]
  },
  {
   "cell_type": "code",
   "execution_count": 172,
   "id": "db4381d2",
   "metadata": {},
   "outputs": [
    {
     "data": {
      "text/plain": [
       "18"
      ]
     },
     "execution_count": 172,
     "metadata": {},
     "output_type": "execute_result"
    }
   ],
   "source": [
    "def sum_dig(n):\n",
    "    sum = 0\n",
    "    while (n !=0):\n",
    "        sum = sum + (n % 10)\n",
    "        n = n//10\n",
    "    return sum\n",
    "n = 567\n",
    "sum_dig(n)"
   ]
  },
  {
   "cell_type": "code",
   "execution_count": 173,
   "id": "4c6dc659",
   "metadata": {},
   "outputs": [
    {
     "name": "stdout",
     "output_type": "stream",
     "text": [
      "7\n",
      "56\n",
      "-1\n",
      "-1 7 56\n"
     ]
    }
   ],
   "source": [
    "x = int(input())\n",
    "y = int(input())\n",
    "z = int(input())\n",
    "\n",
    "a1 = max(x,y,z)\n",
    "a2 = min(x,y,z)\n",
    "a3 = (x + y+ z)-a1-a2\n",
    "\n",
    "print(a2, a3, a1)"
   ]
  },
  {
   "cell_type": "code",
   "execution_count": null,
   "id": "1c22cc90",
   "metadata": {},
   "outputs": [],
   "source": [
    "start 70"
   ]
  }
 ],
 "metadata": {
  "kernelspec": {
   "display_name": "Python 3 (ipykernel)",
   "language": "python",
   "name": "python3"
  },
  "language_info": {
   "codemirror_mode": {
    "name": "ipython",
    "version": 3
   },
   "file_extension": ".py",
   "mimetype": "text/x-python",
   "name": "python",
   "nbconvert_exporter": "python",
   "pygments_lexer": "ipython3",
   "version": "3.9.7"
  }
 },
 "nbformat": 4,
 "nbformat_minor": 5
}
